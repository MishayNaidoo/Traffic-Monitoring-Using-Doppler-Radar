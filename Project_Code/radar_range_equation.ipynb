{
 "cells": [
  {
   "attachments": {},
   "cell_type": "markdown",
   "metadata": {},
   "source": [
    "CDM324"
   ]
  },
  {
   "cell_type": "code",
   "execution_count": null,
   "metadata": {},
   "outputs": [],
   "source": [
    "Pt;\n",
    "Gt = 9.5;\n",
    "Gr = 9.5;\n",
    "c = 299.792*10^6;\n",
    "f = 24*10^6;\n",
    "sigma = 1;\n",
    "R = 6;\n",
    "k = 1.38*10^(-23);\n",
    "T0 = 290;\n",
    "F = 116*10^(-3);\n",
    "B = ;"
   ]
  },
  {
   "cell_type": "code",
   "execution_count": null,
   "metadata": {},
   "outputs": [],
   "source": [
    "SNR = (Pt*Gt*Gr*(c/f)^2*sigma)/((4*pi)^3*R^4*k&T0*F*B);\n"
   ]
  }
 ],
 "metadata": {
  "kernelspec": {
   "display_name": "base",
   "language": "python",
   "name": "python3"
  },
  "language_info": {
   "name": "python",
   "version": "3.10.9"
  },
  "orig_nbformat": 4
 },
 "nbformat": 4,
 "nbformat_minor": 2
}
